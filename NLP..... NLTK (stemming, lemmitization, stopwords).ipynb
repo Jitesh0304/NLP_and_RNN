{
 "cells": [
  {
   "cell_type": "code",
   "execution_count": 1,
   "id": "f5e0efbf",
   "metadata": {},
   "outputs": [],
   "source": [
    "import nltk"
   ]
  },
  {
   "cell_type": "code",
   "execution_count": 3,
   "id": "83647d10",
   "metadata": {},
   "outputs": [],
   "source": [
    "paragraph = \"\"\"To the people of India, Dr APJ Abdul Kalam is no less than an inspiration. \n",
    "            People had a great deal of admiration for him and addressed him as Sir APJ Abdul Kalam. \n",
    "            This article consists of 3 types of APJ Abdul Kalam Speech In English For Students. \n",
    "            The first one is a Long APJ Abdul Kalam Speech meant for students of class 9th and above. \n",
    "            The second one is the usually spoken APJ Abdul Kalam Speech In School for students of class 5th\n",
    "            and above while the third one is 10 lines About Abdul Kalam Speech for students of Class 1 and above for\n",
    "            easier understanding.\"\"\""
   ]
  },
  {
   "cell_type": "code",
   "execution_count": 4,
   "id": "c714b2a4",
   "metadata": {},
   "outputs": [
    {
     "data": {
      "text/plain": [
       "str"
      ]
     },
     "execution_count": 4,
     "metadata": {},
     "output_type": "execute_result"
    }
   ],
   "source": [
    "type(paragraph)"
   ]
  },
  {
   "cell_type": "markdown",
   "id": "f25a41f7",
   "metadata": {},
   "source": [
    "## (1) sent_tokenize \n",
    "It helps to devide the paragraph into sentenses."
   ]
  },
  {
   "cell_type": "code",
   "execution_count": 5,
   "id": "d6afd0a8",
   "metadata": {},
   "outputs": [],
   "source": [
    "sentence = nltk.sent_tokenize(paragraph)"
   ]
  },
  {
   "cell_type": "code",
   "execution_count": 6,
   "id": "137ff498",
   "metadata": {},
   "outputs": [
    {
     "name": "stdout",
     "output_type": "stream",
     "text": [
      "['To the people of India, Dr APJ Abdul Kalam is no less than an inspiration.', 'People had a great deal of admiration for him and addressed him as Sir APJ Abdul Kalam.', 'This article consists of 3 types of APJ Abdul Kalam Speech In English For Students.', 'The first one is a Long APJ Abdul Kalam Speech meant for students of class 9th and above.', 'The second one is the usually spoken APJ Abdul Kalam Speech In School for students of class 5th\\n            and above while the third one is 10 lines About Abdul Kalam Speech for students of Class 1 and above for\\n            easier understanding.']\n"
     ]
    }
   ],
   "source": [
    "print(sentence)"
   ]
  },
  {
   "cell_type": "markdown",
   "id": "f86e4c29",
   "metadata": {},
   "source": [
    "## (2) word_tokenize\n",
    "It helps to break a sentence or paragraph into individual word."
   ]
  },
  {
   "cell_type": "code",
   "execution_count": 7,
   "id": "3f0026b4",
   "metadata": {},
   "outputs": [
    {
     "name": "stdout",
     "output_type": "stream",
     "text": [
      "['To', 'the', 'people', 'of', 'India', ',', 'Dr', 'APJ', 'Abdul', 'Kalam', 'is', 'no', 'less', 'than', 'an', 'inspiration', '.', 'People', 'had', 'a', 'great', 'deal', 'of', 'admiration', 'for', 'him', 'and', 'addressed', 'him', 'as', 'Sir', 'APJ', 'Abdul', 'Kalam', '.', 'This', 'article', 'consists', 'of', '3', 'types', 'of', 'APJ', 'Abdul', 'Kalam', 'Speech', 'In', 'English', 'For', 'Students', '.', 'The', 'first', 'one', 'is', 'a', 'Long', 'APJ', 'Abdul', 'Kalam', 'Speech', 'meant', 'for', 'students', 'of', 'class', '9th', 'and', 'above', '.', 'The', 'second', 'one', 'is', 'the', 'usually', 'spoken', 'APJ', 'Abdul', 'Kalam', 'Speech', 'In', 'School', 'for', 'students', 'of', 'class', '5th', 'and', 'above', 'while', 'the', 'third', 'one', 'is', '10', 'lines', 'About', 'Abdul', 'Kalam', 'Speech', 'for', 'students', 'of', 'Class', '1', 'and', 'above', 'for', 'easier', 'understanding', '.']\n"
     ]
    }
   ],
   "source": [
    "words = nltk.word_tokenize(paragraph)\n",
    "\n",
    "print(words)"
   ]
  },
  {
   "cell_type": "markdown",
   "id": "17e3cef9",
   "metadata": {},
   "source": [
    "## (3) stopwords & stemming"
   ]
  },
  {
   "cell_type": "code",
   "execution_count": 8,
   "id": "1378e789",
   "metadata": {},
   "outputs": [],
   "source": [
    "from nltk.stem import PorterStemmer\n",
    "from nltk.corpus import stopwords"
   ]
  },
  {
   "cell_type": "code",
   "execution_count": 9,
   "id": "d879f027",
   "metadata": {},
   "outputs": [
    {
     "data": {
      "text/plain": [
       "['i',\n",
       " 'me',\n",
       " 'my',\n",
       " 'myself',\n",
       " 'we',\n",
       " 'our',\n",
       " 'ours',\n",
       " 'ourselves',\n",
       " 'you',\n",
       " \"you're\",\n",
       " \"you've\",\n",
       " \"you'll\",\n",
       " \"you'd\",\n",
       " 'your',\n",
       " 'yours',\n",
       " 'yourself',\n",
       " 'yourselves',\n",
       " 'he',\n",
       " 'him',\n",
       " 'his',\n",
       " 'himself',\n",
       " 'she',\n",
       " \"she's\",\n",
       " 'her',\n",
       " 'hers',\n",
       " 'herself',\n",
       " 'it',\n",
       " \"it's\",\n",
       " 'its',\n",
       " 'itself',\n",
       " 'they',\n",
       " 'them',\n",
       " 'their',\n",
       " 'theirs',\n",
       " 'themselves',\n",
       " 'what',\n",
       " 'which',\n",
       " 'who',\n",
       " 'whom',\n",
       " 'this',\n",
       " 'that',\n",
       " \"that'll\",\n",
       " 'these',\n",
       " 'those',\n",
       " 'am',\n",
       " 'is',\n",
       " 'are',\n",
       " 'was',\n",
       " 'were',\n",
       " 'be',\n",
       " 'been',\n",
       " 'being',\n",
       " 'have',\n",
       " 'has',\n",
       " 'had',\n",
       " 'having',\n",
       " 'do',\n",
       " 'does',\n",
       " 'did',\n",
       " 'doing',\n",
       " 'a',\n",
       " 'an',\n",
       " 'the',\n",
       " 'and',\n",
       " 'but',\n",
       " 'if',\n",
       " 'or',\n",
       " 'because',\n",
       " 'as',\n",
       " 'until',\n",
       " 'while',\n",
       " 'of',\n",
       " 'at',\n",
       " 'by',\n",
       " 'for',\n",
       " 'with',\n",
       " 'about',\n",
       " 'against',\n",
       " 'between',\n",
       " 'into',\n",
       " 'through',\n",
       " 'during',\n",
       " 'before',\n",
       " 'after',\n",
       " 'above',\n",
       " 'below',\n",
       " 'to',\n",
       " 'from',\n",
       " 'up',\n",
       " 'down',\n",
       " 'in',\n",
       " 'out',\n",
       " 'on',\n",
       " 'off',\n",
       " 'over',\n",
       " 'under',\n",
       " 'again',\n",
       " 'further',\n",
       " 'then',\n",
       " 'once',\n",
       " 'here',\n",
       " 'there',\n",
       " 'when',\n",
       " 'where',\n",
       " 'why',\n",
       " 'how',\n",
       " 'all',\n",
       " 'any',\n",
       " 'both',\n",
       " 'each',\n",
       " 'few',\n",
       " 'more',\n",
       " 'most',\n",
       " 'other',\n",
       " 'some',\n",
       " 'such',\n",
       " 'no',\n",
       " 'nor',\n",
       " 'not',\n",
       " 'only',\n",
       " 'own',\n",
       " 'same',\n",
       " 'so',\n",
       " 'than',\n",
       " 'too',\n",
       " 'very',\n",
       " 's',\n",
       " 't',\n",
       " 'can',\n",
       " 'will',\n",
       " 'just',\n",
       " 'don',\n",
       " \"don't\",\n",
       " 'should',\n",
       " \"should've\",\n",
       " 'now',\n",
       " 'd',\n",
       " 'll',\n",
       " 'm',\n",
       " 'o',\n",
       " 're',\n",
       " 've',\n",
       " 'y',\n",
       " 'ain',\n",
       " 'aren',\n",
       " \"aren't\",\n",
       " 'couldn',\n",
       " \"couldn't\",\n",
       " 'didn',\n",
       " \"didn't\",\n",
       " 'doesn',\n",
       " \"doesn't\",\n",
       " 'hadn',\n",
       " \"hadn't\",\n",
       " 'hasn',\n",
       " \"hasn't\",\n",
       " 'haven',\n",
       " \"haven't\",\n",
       " 'isn',\n",
       " \"isn't\",\n",
       " 'ma',\n",
       " 'mightn',\n",
       " \"mightn't\",\n",
       " 'mustn',\n",
       " \"mustn't\",\n",
       " 'needn',\n",
       " \"needn't\",\n",
       " 'shan',\n",
       " \"shan't\",\n",
       " 'shouldn',\n",
       " \"shouldn't\",\n",
       " 'wasn',\n",
       " \"wasn't\",\n",
       " 'weren',\n",
       " \"weren't\",\n",
       " 'won',\n",
       " \"won't\",\n",
       " 'wouldn',\n",
       " \"wouldn't\"]"
      ]
     },
     "execution_count": 9,
     "metadata": {},
     "output_type": "execute_result"
    }
   ],
   "source": [
    "## words present inside the stopword\n",
    "## These words does not have that much importance in a paragraph\n",
    "\n",
    "stopwords.words('english')"
   ]
  },
  {
   "cell_type": "code",
   "execution_count": 10,
   "id": "7fd06dcd",
   "metadata": {},
   "outputs": [],
   "source": [
    "stemmer = PorterStemmer()"
   ]
  },
  {
   "cell_type": "code",
   "execution_count": 11,
   "id": "668fc418",
   "metadata": {},
   "outputs": [],
   "source": [
    "msg = 'i am jitesh sahu and i am from bargarh'"
   ]
  },
  {
   "cell_type": "code",
   "execution_count": 12,
   "id": "18da7d89",
   "metadata": {},
   "outputs": [
    {
     "data": {
      "text/plain": [
       "'i am jitesh sahu and i am from bargarh'"
      ]
     },
     "execution_count": 12,
     "metadata": {},
     "output_type": "execute_result"
    }
   ],
   "source": [
    "stemmer.stem(msg)"
   ]
  },
  {
   "cell_type": "code",
   "execution_count": 13,
   "id": "89c1b6aa",
   "metadata": {},
   "outputs": [],
   "source": [
    "for i in range(len(sentence)):\n",
    "    \n",
    "    ## break each sentence into words \n",
    "    wordss = nltk.word_tokenize(sentence[i])\n",
    "    \n",
    "    ## check the word is present in the stopwords or not.... if not then do the stemmer operation for that word\n",
    "    wordss = [stemmer.stem(word) for word in wordss if word not in set(stopwords.words('english'))]\n",
    "    \n",
    "    ## after the stemming operation join all those words\n",
    "    sentence[i] = ' '.join(wordss)"
   ]
  },
  {
   "cell_type": "code",
   "execution_count": 14,
   "id": "149eb667",
   "metadata": {},
   "outputs": [
    {
     "data": {
      "text/plain": [
       "['to peopl india , dr apj abdul kalam less inspir .',\n",
       " 'peopl great deal admir address sir apj abdul kalam .',\n",
       " 'thi articl consist 3 type apj abdul kalam speech in english for student .',\n",
       " 'the first one long apj abdul kalam speech meant student class 9th .',\n",
       " 'the second one usual spoken apj abdul kalam speech in school student class 5th third one 10 line about abdul kalam speech student class 1 easier understand .']"
      ]
     },
     "execution_count": 14,
     "metadata": {},
     "output_type": "execute_result"
    }
   ],
   "source": [
    "sentence"
   ]
  },
  {
   "cell_type": "markdown",
   "id": "861582e1",
   "metadata": {},
   "source": [
    "# (3) Lemmitization"
   ]
  },
  {
   "cell_type": "code",
   "execution_count": 15,
   "id": "b5b0f5d0",
   "metadata": {},
   "outputs": [],
   "source": [
    "from nltk.stem import WordNetLemmatizer\n",
    "from nltk.corpus import stopwords"
   ]
  },
  {
   "cell_type": "code",
   "execution_count": 16,
   "id": "3c9e542b",
   "metadata": {},
   "outputs": [],
   "source": [
    "sentence = nltk.sent_tokenize(paragraph)"
   ]
  },
  {
   "cell_type": "code",
   "execution_count": 17,
   "id": "9c57b647",
   "metadata": {},
   "outputs": [
    {
     "data": {
      "text/plain": [
       "['To the people of India, Dr APJ Abdul Kalam is no less than an inspiration.',\n",
       " 'People had a great deal of admiration for him and addressed him as Sir APJ Abdul Kalam.',\n",
       " 'This article consists of 3 types of APJ Abdul Kalam Speech In English For Students.',\n",
       " 'The first one is a Long APJ Abdul Kalam Speech meant for students of class 9th and above.',\n",
       " 'The second one is the usually spoken APJ Abdul Kalam Speech In School for students of class 5th\\n            and above while the third one is 10 lines About Abdul Kalam Speech for students of Class 1 and above for\\n            easier understanding.']"
      ]
     },
     "execution_count": 17,
     "metadata": {},
     "output_type": "execute_result"
    }
   ],
   "source": [
    "sentence"
   ]
  },
  {
   "cell_type": "code",
   "execution_count": 18,
   "id": "a74df361",
   "metadata": {},
   "outputs": [],
   "source": [
    "lemmetizer = WordNetLemmatizer()"
   ]
  },
  {
   "cell_type": "code",
   "execution_count": 20,
   "id": "6c98604b",
   "metadata": {},
   "outputs": [],
   "source": [
    "for i in range(len(sentence)):\n",
    "    \n",
    "    words = nltk.word_tokenize(sentence[i])\n",
    "    \n",
    "    words = [lemmetizer.lemmatize(word) for word in words if word not in stopwords.words('english')]\n",
    "    \n",
    "    sentence[i] = ' '.join(words)"
   ]
  },
  {
   "cell_type": "code",
   "execution_count": 21,
   "id": "ca1c8729",
   "metadata": {},
   "outputs": [
    {
     "data": {
      "text/plain": [
       "['To people India , Dr APJ Abdul Kalam le inspiration .',\n",
       " 'People great deal admiration addressed Sir APJ Abdul Kalam .',\n",
       " 'This article consists 3 type APJ Abdul Kalam Speech In English For Students .',\n",
       " 'The first one Long APJ Abdul Kalam Speech meant student class 9th .',\n",
       " 'The second one usually spoken APJ Abdul Kalam Speech In School student class 5th third one 10 line About Abdul Kalam Speech student Class 1 easier understanding .']"
      ]
     },
     "execution_count": 21,
     "metadata": {},
     "output_type": "execute_result"
    }
   ],
   "source": [
    "sentence"
   ]
  },
  {
   "cell_type": "code",
   "execution_count": null,
   "id": "9e2865b5",
   "metadata": {},
   "outputs": [],
   "source": []
  }
 ],
 "metadata": {
  "kernelspec": {
   "display_name": "Python 3 (ipykernel)",
   "language": "python",
   "name": "python3"
  },
  "language_info": {
   "codemirror_mode": {
    "name": "ipython",
    "version": 3
   },
   "file_extension": ".py",
   "mimetype": "text/x-python",
   "name": "python",
   "nbconvert_exporter": "python",
   "pygments_lexer": "ipython3",
   "version": "3.9.13"
  }
 },
 "nbformat": 4,
 "nbformat_minor": 5
}
