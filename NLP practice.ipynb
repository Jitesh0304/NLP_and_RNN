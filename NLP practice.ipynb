{
 "cells": [
  {
   "cell_type": "code",
   "execution_count": 1,
   "id": "d94552e5",
   "metadata": {},
   "outputs": [
    {
     "name": "stdout",
     "output_type": "stream",
     "text": [
      "Requirement already satisfied: nltk in c:\\users\\hp\\anaconda3\\lib\\site-packages (3.7)\n",
      "Requirement already satisfied: tqdm in c:\\users\\hp\\anaconda3\\lib\\site-packages (from nltk) (4.64.0)\n",
      "Requirement already satisfied: regex>=2021.8.3 in c:\\users\\hp\\anaconda3\\lib\\site-packages (from nltk) (2022.3.15)\n",
      "Requirement already satisfied: click in c:\\users\\hp\\anaconda3\\lib\\site-packages (from nltk) (8.0.4)\n",
      "Requirement already satisfied: joblib in c:\\users\\hp\\anaconda3\\lib\\site-packages (from nltk) (1.1.0)\n",
      "Requirement already satisfied: colorama in c:\\users\\hp\\anaconda3\\lib\\site-packages (from click->nltk) (0.4.4)\n"
     ]
    }
   ],
   "source": [
    "!pip install nltk"
   ]
  },
  {
   "cell_type": "code",
   "execution_count": 2,
   "id": "e062a351",
   "metadata": {},
   "outputs": [],
   "source": [
    "paragraph = \"\"\"\n",
    "Narendra Damodardas Modi (Gujarati: [ˈnəɾendɾə dɑmodəɾˈdɑs ˈmodiː] (listen); born 17 September 1950)[b] is an Indian politician serving as the 14th and current prime minister of India since 2014. Modi was the chief minister of Gujarat from 2001 to 2014 and is the Member of Parliament from Varanasi. He is a member of the Bharatiya Janata Party (BJP) and of the Rashtriya Swayamsevak Sangh (RSS), a right-wing Hindu nationalist paramilitary volunteer organisation. He is the longest serving prime minister from outside the Indian National Congress.\n",
    "\n",
    "Modi was born and raised in Vadnagar in northeastern Gujarat, where he completed his secondary education. He was introduced to the RSS at age eight. He has discussed having to work as a child in his father's tea stall in the Vadnagar railway station, which has not been reliably corroborated. At age 18, Modi was married to Jashodaben Chimanlal Modi, whom he abandoned soon after. He first publicly acknowledged her as his wife more than four decades later when required to do so by Indian law, but has made no contact with her since. Modi has asserted he had travelled in northern India for two years after leaving his parental home, visiting a number of religious centres, but few details of his travels have emerged. Upon his return to Gujarat in 1971, he became a full-time worker for the RSS. After the state of emergency was declared by prime minister Indira Gandhi in 1975, Modi went into hiding. The RSS assigned him to the BJP in 1985 and he held several positions within the party hierarchy until 2001, rising to the rank of general secretary.[c]\n",
    "\"\"\""
   ]
  },
  {
   "cell_type": "code",
   "execution_count": 3,
   "id": "10ef9099",
   "metadata": {},
   "outputs": [
    {
     "data": {
      "text/plain": [
       "\"\\nNarendra Damodardas Modi (Gujarati: [ˈnəɾendɾə dɑmodəɾˈdɑs ˈmodiː] (listen); born 17 September 1950)[b] is an Indian politician serving as the 14th and current prime minister of India since 2014. Modi was the chief minister of Gujarat from 2001 to 2014 and is the Member of Parliament from Varanasi. He is a member of the Bharatiya Janata Party (BJP) and of the Rashtriya Swayamsevak Sangh (RSS), a right-wing Hindu nationalist paramilitary volunteer organisation. He is the longest serving prime minister from outside the Indian National Congress.\\n\\nModi was born and raised in Vadnagar in northeastern Gujarat, where he completed his secondary education. He was introduced to the RSS at age eight. He has discussed having to work as a child in his father's tea stall in the Vadnagar railway station, which has not been reliably corroborated. At age 18, Modi was married to Jashodaben Chimanlal Modi, whom he abandoned soon after. He first publicly acknowledged her as his wife more than four decades later when required to do so by Indian law, but has made no contact with her since. Modi has asserted he had travelled in northern India for two years after leaving his parental home, visiting a number of religious centres, but few details of his travels have emerged. Upon his return to Gujarat in 1971, he became a full-time worker for the RSS. After the state of emergency was declared by prime minister Indira Gandhi in 1975, Modi went into hiding. The RSS assigned him to the BJP in 1985 and he held several positions within the party hierarchy until 2001, rising to the rank of general secretary.[c]\\n\""
      ]
     },
     "execution_count": 3,
     "metadata": {},
     "output_type": "execute_result"
    }
   ],
   "source": [
    "paragraph"
   ]
  },
  {
   "cell_type": "code",
   "execution_count": 4,
   "id": "825fa7a2",
   "metadata": {},
   "outputs": [],
   "source": [
    "import nltk\n",
    "from nltk.stem import PorterStemmer\n",
    "from nltk.corpus import stopwords"
   ]
  },
  {
   "cell_type": "code",
   "execution_count": 5,
   "id": "e54f8a1f",
   "metadata": {},
   "outputs": [
    {
     "name": "stderr",
     "output_type": "stream",
     "text": [
      "[nltk_data] Downloading package punkt to\n",
      "[nltk_data]     C:\\Users\\HP\\AppData\\Roaming\\nltk_data...\n",
      "[nltk_data]   Package punkt is already up-to-date!\n",
      "[nltk_data] Downloading package stopwords to\n",
      "[nltk_data]     C:\\Users\\HP\\AppData\\Roaming\\nltk_data...\n",
      "[nltk_data]   Package stopwords is already up-to-date!\n"
     ]
    },
    {
     "data": {
      "text/plain": [
       "True"
      ]
     },
     "execution_count": 5,
     "metadata": {},
     "output_type": "execute_result"
    }
   ],
   "source": [
    "nltk.download('punkt')\n",
    "nltk.download('stopwords')"
   ]
  },
  {
   "cell_type": "code",
   "execution_count": 6,
   "id": "504bffb6",
   "metadata": {},
   "outputs": [
    {
     "data": {
      "text/plain": [
       "\"\\nnarendra damodardas modi (gujarati: [ˈnəɾendɾə dɑmodəɾˈdɑs ˈmodiː] (listen); born 17 september 1950)[b] is an indian politician serving as the 14th and current prime minister of india since 2014. modi was the chief minister of gujarat from 2001 to 2014 and is the member of parliament from varanasi. he is a member of the bharatiya janata party (bjp) and of the rashtriya swayamsevak sangh (rss), a right-wing hindu nationalist paramilitary volunteer organisation. he is the longest serving prime minister from outside the indian national congress.\\n\\nmodi was born and raised in vadnagar in northeastern gujarat, where he completed his secondary education. he was introduced to the rss at age eight. he has discussed having to work as a child in his father's tea stall in the vadnagar railway station, which has not been reliably corroborated. at age 18, modi was married to jashodaben chimanlal modi, whom he abandoned soon after. he first publicly acknowledged her as his wife more than four decades later when required to do so by indian law, but has made no contact with her since. modi has asserted he had travelled in northern india for two years after leaving his parental home, visiting a number of religious centres, but few details of his travels have emerged. upon his return to gujarat in 1971, he became a full-time worker for the rss. after the state of emergency was declared by prime minister indira gandhi in 1975, modi went into hiding. the rss assigned him to the bjp in 1985 and he held several positions within the party hierarchy until 2001, rising to the rank of general secretary.[c]\\n\""
      ]
     },
     "execution_count": 6,
     "metadata": {},
     "output_type": "execute_result"
    }
   ],
   "source": [
    "paragraph.lower()"
   ]
  },
  {
   "cell_type": "code",
   "execution_count": 7,
   "id": "25e8262c",
   "metadata": {},
   "outputs": [],
   "source": [
    "from nltk.tokenize import word_tokenize"
   ]
  },
  {
   "cell_type": "code",
   "execution_count": 9,
   "id": "f86626fe",
   "metadata": {},
   "outputs": [],
   "source": [
    "sentences = nltk.sent_tokenize(paragraph)"
   ]
  },
  {
   "cell_type": "code",
   "execution_count": 11,
   "id": "6638ef2f",
   "metadata": {},
   "outputs": [
    {
     "name": "stdout",
     "output_type": "stream",
     "text": [
      "['\\nNarendra Damodardas Modi (Gujarati: [ˈnəɾendɾə dɑmodəɾˈdɑs ˈmodiː] (listen); born 17 September 1950)[b] is an Indian politician serving as the 14th and current prime minister of India since 2014.', 'Modi was the chief minister of Gujarat from 2001 to 2014 and is the Member of Parliament from Varanasi.', 'He is a member of the Bharatiya Janata Party (BJP) and of the Rashtriya Swayamsevak Sangh (RSS), a right-wing Hindu nationalist paramilitary volunteer organisation.', 'He is the longest serving prime minister from outside the Indian National Congress.', 'Modi was born and raised in Vadnagar in northeastern Gujarat, where he completed his secondary education.', 'He was introduced to the RSS at age eight.', \"He has discussed having to work as a child in his father's tea stall in the Vadnagar railway station, which has not been reliably corroborated.\", 'At age 18, Modi was married to Jashodaben Chimanlal Modi, whom he abandoned soon after.', 'He first publicly acknowledged her as his wife more than four decades later when required to do so by Indian law, but has made no contact with her since.', 'Modi has asserted he had travelled in northern India for two years after leaving his parental home, visiting a number of religious centres, but few details of his travels have emerged.', 'Upon his return to Gujarat in 1971, he became a full-time worker for the RSS.', 'After the state of emergency was declared by prime minister Indira Gandhi in 1975, Modi went into hiding.', 'The RSS assigned him to the BJP in 1985 and he held several positions within the party hierarchy until 2001, rising to the rank of general secretary.', '[c]']\n"
     ]
    }
   ],
   "source": [
    "print(sentences)"
   ]
  },
  {
   "cell_type": "code",
   "execution_count": 12,
   "id": "1037600b",
   "metadata": {},
   "outputs": [],
   "source": [
    "separate_word = word_tokenize(paragraph.lower())"
   ]
  },
  {
   "cell_type": "code",
   "execution_count": 13,
   "id": "a930dd69",
   "metadata": {},
   "outputs": [
    {
     "data": {
      "text/plain": [
       "['narendra',\n",
       " 'damodardas',\n",
       " 'modi',\n",
       " '(',\n",
       " 'gujarati',\n",
       " ':',\n",
       " '[',\n",
       " 'ˈnəɾendɾə',\n",
       " 'dɑmodəɾˈdɑs',\n",
       " 'ˈmodiː',\n",
       " ']',\n",
       " '(',\n",
       " 'listen',\n",
       " ')',\n",
       " ';',\n",
       " 'born',\n",
       " '17',\n",
       " 'september',\n",
       " '1950',\n",
       " ')',\n",
       " '[',\n",
       " 'b',\n",
       " ']',\n",
       " 'is',\n",
       " 'an',\n",
       " 'indian',\n",
       " 'politician',\n",
       " 'serving',\n",
       " 'as',\n",
       " 'the',\n",
       " '14th',\n",
       " 'and',\n",
       " 'current',\n",
       " 'prime',\n",
       " 'minister',\n",
       " 'of',\n",
       " 'india',\n",
       " 'since',\n",
       " '2014.',\n",
       " 'modi',\n",
       " 'was',\n",
       " 'the',\n",
       " 'chief',\n",
       " 'minister',\n",
       " 'of',\n",
       " 'gujarat',\n",
       " 'from',\n",
       " '2001',\n",
       " 'to',\n",
       " '2014',\n",
       " 'and',\n",
       " 'is',\n",
       " 'the',\n",
       " 'member',\n",
       " 'of',\n",
       " 'parliament',\n",
       " 'from',\n",
       " 'varanasi',\n",
       " '.',\n",
       " 'he',\n",
       " 'is',\n",
       " 'a',\n",
       " 'member',\n",
       " 'of',\n",
       " 'the',\n",
       " 'bharatiya',\n",
       " 'janata',\n",
       " 'party',\n",
       " '(',\n",
       " 'bjp',\n",
       " ')',\n",
       " 'and',\n",
       " 'of',\n",
       " 'the',\n",
       " 'rashtriya',\n",
       " 'swayamsevak',\n",
       " 'sangh',\n",
       " '(',\n",
       " 'rss',\n",
       " ')',\n",
       " ',',\n",
       " 'a',\n",
       " 'right-wing',\n",
       " 'hindu',\n",
       " 'nationalist',\n",
       " 'paramilitary',\n",
       " 'volunteer',\n",
       " 'organisation',\n",
       " '.',\n",
       " 'he',\n",
       " 'is',\n",
       " 'the',\n",
       " 'longest',\n",
       " 'serving',\n",
       " 'prime',\n",
       " 'minister',\n",
       " 'from',\n",
       " 'outside',\n",
       " 'the',\n",
       " 'indian',\n",
       " 'national',\n",
       " 'congress',\n",
       " '.',\n",
       " 'modi',\n",
       " 'was',\n",
       " 'born',\n",
       " 'and',\n",
       " 'raised',\n",
       " 'in',\n",
       " 'vadnagar',\n",
       " 'in',\n",
       " 'northeastern',\n",
       " 'gujarat',\n",
       " ',',\n",
       " 'where',\n",
       " 'he',\n",
       " 'completed',\n",
       " 'his',\n",
       " 'secondary',\n",
       " 'education',\n",
       " '.',\n",
       " 'he',\n",
       " 'was',\n",
       " 'introduced',\n",
       " 'to',\n",
       " 'the',\n",
       " 'rss',\n",
       " 'at',\n",
       " 'age',\n",
       " 'eight',\n",
       " '.',\n",
       " 'he',\n",
       " 'has',\n",
       " 'discussed',\n",
       " 'having',\n",
       " 'to',\n",
       " 'work',\n",
       " 'as',\n",
       " 'a',\n",
       " 'child',\n",
       " 'in',\n",
       " 'his',\n",
       " 'father',\n",
       " \"'s\",\n",
       " 'tea',\n",
       " 'stall',\n",
       " 'in',\n",
       " 'the',\n",
       " 'vadnagar',\n",
       " 'railway',\n",
       " 'station',\n",
       " ',',\n",
       " 'which',\n",
       " 'has',\n",
       " 'not',\n",
       " 'been',\n",
       " 'reliably',\n",
       " 'corroborated',\n",
       " '.',\n",
       " 'at',\n",
       " 'age',\n",
       " '18',\n",
       " ',',\n",
       " 'modi',\n",
       " 'was',\n",
       " 'married',\n",
       " 'to',\n",
       " 'jashodaben',\n",
       " 'chimanlal',\n",
       " 'modi',\n",
       " ',',\n",
       " 'whom',\n",
       " 'he',\n",
       " 'abandoned',\n",
       " 'soon',\n",
       " 'after',\n",
       " '.',\n",
       " 'he',\n",
       " 'first',\n",
       " 'publicly',\n",
       " 'acknowledged',\n",
       " 'her',\n",
       " 'as',\n",
       " 'his',\n",
       " 'wife',\n",
       " 'more',\n",
       " 'than',\n",
       " 'four',\n",
       " 'decades',\n",
       " 'later',\n",
       " 'when',\n",
       " 'required',\n",
       " 'to',\n",
       " 'do',\n",
       " 'so',\n",
       " 'by',\n",
       " 'indian',\n",
       " 'law',\n",
       " ',',\n",
       " 'but',\n",
       " 'has',\n",
       " 'made',\n",
       " 'no',\n",
       " 'contact',\n",
       " 'with',\n",
       " 'her',\n",
       " 'since',\n",
       " '.',\n",
       " 'modi',\n",
       " 'has',\n",
       " 'asserted',\n",
       " 'he',\n",
       " 'had',\n",
       " 'travelled',\n",
       " 'in',\n",
       " 'northern',\n",
       " 'india',\n",
       " 'for',\n",
       " 'two',\n",
       " 'years',\n",
       " 'after',\n",
       " 'leaving',\n",
       " 'his',\n",
       " 'parental',\n",
       " 'home',\n",
       " ',',\n",
       " 'visiting',\n",
       " 'a',\n",
       " 'number',\n",
       " 'of',\n",
       " 'religious',\n",
       " 'centres',\n",
       " ',',\n",
       " 'but',\n",
       " 'few',\n",
       " 'details',\n",
       " 'of',\n",
       " 'his',\n",
       " 'travels',\n",
       " 'have',\n",
       " 'emerged',\n",
       " '.',\n",
       " 'upon',\n",
       " 'his',\n",
       " 'return',\n",
       " 'to',\n",
       " 'gujarat',\n",
       " 'in',\n",
       " '1971',\n",
       " ',',\n",
       " 'he',\n",
       " 'became',\n",
       " 'a',\n",
       " 'full-time',\n",
       " 'worker',\n",
       " 'for',\n",
       " 'the',\n",
       " 'rss',\n",
       " '.',\n",
       " 'after',\n",
       " 'the',\n",
       " 'state',\n",
       " 'of',\n",
       " 'emergency',\n",
       " 'was',\n",
       " 'declared',\n",
       " 'by',\n",
       " 'prime',\n",
       " 'minister',\n",
       " 'indira',\n",
       " 'gandhi',\n",
       " 'in',\n",
       " '1975',\n",
       " ',',\n",
       " 'modi',\n",
       " 'went',\n",
       " 'into',\n",
       " 'hiding',\n",
       " '.',\n",
       " 'the',\n",
       " 'rss',\n",
       " 'assigned',\n",
       " 'him',\n",
       " 'to',\n",
       " 'the',\n",
       " 'bjp',\n",
       " 'in',\n",
       " '1985',\n",
       " 'and',\n",
       " 'he',\n",
       " 'held',\n",
       " 'several',\n",
       " 'positions',\n",
       " 'within',\n",
       " 'the',\n",
       " 'party',\n",
       " 'hierarchy',\n",
       " 'until',\n",
       " '2001',\n",
       " ',',\n",
       " 'rising',\n",
       " 'to',\n",
       " 'the',\n",
       " 'rank',\n",
       " 'of',\n",
       " 'general',\n",
       " 'secretary',\n",
       " '.',\n",
       " '[',\n",
       " 'c',\n",
       " ']']"
      ]
     },
     "execution_count": 13,
     "metadata": {},
     "output_type": "execute_result"
    }
   ],
   "source": [
    "separate_word"
   ]
  },
  {
   "cell_type": "code",
   "execution_count": 14,
   "id": "2c975d08",
   "metadata": {},
   "outputs": [],
   "source": [
    "steam = PorterStemmer()"
   ]
  },
  {
   "cell_type": "code",
   "execution_count": 15,
   "id": "0d3e4cd9",
   "metadata": {},
   "outputs": [
    {
     "data": {
      "text/plain": [
       "'danc'"
      ]
     },
     "execution_count": 15,
     "metadata": {},
     "output_type": "execute_result"
    }
   ],
   "source": [
    "steam.stem('dancing')"
   ]
  },
  {
   "cell_type": "code",
   "execution_count": 16,
   "id": "7fb53230",
   "metadata": {},
   "outputs": [
    {
     "data": {
      "text/plain": [
       "'eat'"
      ]
     },
     "execution_count": 16,
     "metadata": {},
     "output_type": "execute_result"
    }
   ],
   "source": [
    "steam.stem('eating')"
   ]
  },
  {
   "cell_type": "code",
   "execution_count": 17,
   "id": "8eab15a1",
   "metadata": {},
   "outputs": [],
   "source": [
    "from nltk.stem import WordNetLemmatizer"
   ]
  },
  {
   "cell_type": "code",
   "execution_count": 18,
   "id": "e9579f5e",
   "metadata": {},
   "outputs": [],
   "source": [
    "lemmatizer = WordNetLemmatizer()"
   ]
  },
  {
   "cell_type": "code",
   "execution_count": 19,
   "id": "1885590f",
   "metadata": {},
   "outputs": [
    {
     "name": "stderr",
     "output_type": "stream",
     "text": [
      "[nltk_data] Downloading package wordnet to\n",
      "[nltk_data]     C:\\Users\\HP\\AppData\\Roaming\\nltk_data...\n",
      "[nltk_data]   Package wordnet is already up-to-date!\n"
     ]
    },
    {
     "data": {
      "text/plain": [
       "True"
      ]
     },
     "execution_count": 19,
     "metadata": {},
     "output_type": "execute_result"
    }
   ],
   "source": [
    "nltk.download('wordnet')"
   ]
  },
  {
   "cell_type": "code",
   "execution_count": 20,
   "id": "15f26c01",
   "metadata": {},
   "outputs": [
    {
     "name": "stderr",
     "output_type": "stream",
     "text": [
      "[nltk_data] Downloading package omw-1.4 to\n",
      "[nltk_data]     C:\\Users\\HP\\AppData\\Roaming\\nltk_data...\n",
      "[nltk_data]   Package omw-1.4 is already up-to-date!\n"
     ]
    },
    {
     "data": {
      "text/plain": [
       "True"
      ]
     },
     "execution_count": 20,
     "metadata": {},
     "output_type": "execute_result"
    }
   ],
   "source": [
    "nltk.download('omw-1.4')"
   ]
  },
  {
   "cell_type": "code",
   "execution_count": 21,
   "id": "65d03ed2",
   "metadata": {
    "scrolled": true
   },
   "outputs": [
    {
     "data": {
      "text/plain": [
       "'good'"
      ]
     },
     "execution_count": 21,
     "metadata": {},
     "output_type": "execute_result"
    }
   ],
   "source": [
    "lemmatizer.lemmatize('goods')"
   ]
  },
  {
   "cell_type": "code",
   "execution_count": 22,
   "id": "b9803b00",
   "metadata": {},
   "outputs": [
    {
     "name": "stdout",
     "output_type": "stream",
     "text": [
      "rocks : rock\n",
      "corpora : corpus\n",
      "better : good\n"
     ]
    }
   ],
   "source": [
    "from nltk.stem import WordNetLemmatizer\n",
    "  \n",
    "lemmatizer = WordNetLemmatizer()\n",
    "  \n",
    "print(\"rocks :\", lemmatizer.lemmatize(\"rocks\"))\n",
    "print(\"corpora :\", lemmatizer.lemmatize(\"corpora\"))\n",
    "  \n",
    "# a denotes adjective in \"pos\"\n",
    "print(\"better :\", lemmatizer.lemmatize(\"better\", pos =\"a\"))"
   ]
  },
  {
   "cell_type": "code",
   "execution_count": 25,
   "id": "69428713",
   "metadata": {},
   "outputs": [
    {
     "data": {
      "text/plain": [
       "'expert'"
      ]
     },
     "execution_count": 25,
     "metadata": {},
     "output_type": "execute_result"
    }
   ],
   "source": [
    "lemmatizer.lemmatize('expert')"
   ]
  },
  {
   "cell_type": "code",
   "execution_count": 26,
   "id": "c322115c",
   "metadata": {},
   "outputs": [
    {
     "data": {
      "text/plain": [
       "14"
      ]
     },
     "execution_count": 26,
     "metadata": {},
     "output_type": "execute_result"
    }
   ],
   "source": [
    "len(sentences)"
   ]
  },
  {
   "cell_type": "code",
   "execution_count": 27,
   "id": "aabe8338",
   "metadata": {},
   "outputs": [
    {
     "data": {
      "text/plain": [
       "['\\nNarendra Damodardas Modi (Gujarati: [ˈnəɾendɾə dɑmodəɾˈdɑs ˈmodiː] (listen); born 17 September 1950)[b] is an Indian politician serving as the 14th and current prime minister of India since 2014.',\n",
       " 'Modi was the chief minister of Gujarat from 2001 to 2014 and is the Member of Parliament from Varanasi.',\n",
       " 'He is a member of the Bharatiya Janata Party (BJP) and of the Rashtriya Swayamsevak Sangh (RSS), a right-wing Hindu nationalist paramilitary volunteer organisation.',\n",
       " 'He is the longest serving prime minister from outside the Indian National Congress.',\n",
       " 'Modi was born and raised in Vadnagar in northeastern Gujarat, where he completed his secondary education.',\n",
       " 'He was introduced to the RSS at age eight.',\n",
       " \"He has discussed having to work as a child in his father's tea stall in the Vadnagar railway station, which has not been reliably corroborated.\",\n",
       " 'At age 18, Modi was married to Jashodaben Chimanlal Modi, whom he abandoned soon after.',\n",
       " 'He first publicly acknowledged her as his wife more than four decades later when required to do so by Indian law, but has made no contact with her since.',\n",
       " 'Modi has asserted he had travelled in northern India for two years after leaving his parental home, visiting a number of religious centres, but few details of his travels have emerged.',\n",
       " 'Upon his return to Gujarat in 1971, he became a full-time worker for the RSS.',\n",
       " 'After the state of emergency was declared by prime minister Indira Gandhi in 1975, Modi went into hiding.',\n",
       " 'The RSS assigned him to the BJP in 1985 and he held several positions within the party hierarchy until 2001, rising to the rank of general secretary.',\n",
       " '[c]']"
      ]
     },
     "execution_count": 27,
     "metadata": {},
     "output_type": "execute_result"
    }
   ],
   "source": [
    "sentences"
   ]
  },
  {
   "cell_type": "code",
   "execution_count": 28,
   "id": "f77e6c16",
   "metadata": {},
   "outputs": [],
   "source": [
    "import re"
   ]
  },
  {
   "cell_type": "code",
   "execution_count": 31,
   "id": "c2a6a962",
   "metadata": {},
   "outputs": [],
   "source": [
    "corpus = []\n",
    "for i in range(len(sentences)):\n",
    "    review = re.sub('[^a-zA-Z]', ' ' , sentences[i])\n",
    "    review = review.lower()\n",
    "    corpus.append(review)"
   ]
  },
  {
   "cell_type": "code",
   "execution_count": 32,
   "id": "74d0dd33",
   "metadata": {},
   "outputs": [
    {
     "data": {
      "text/plain": [
       "[' narendra damodardas modi  gujarati    n  end   d mod   d s  modi    listen   born    september       b  is an indian politician serving as the   th and current prime minister of india since      ',\n",
       " 'modi was the chief minister of gujarat from      to      and is the member of parliament from varanasi ',\n",
       " 'he is a member of the bharatiya janata party  bjp  and of the rashtriya swayamsevak sangh  rss   a right wing hindu nationalist paramilitary volunteer organisation ',\n",
       " 'he is the longest serving prime minister from outside the indian national congress ',\n",
       " 'modi was born and raised in vadnagar in northeastern gujarat  where he completed his secondary education ',\n",
       " 'he was introduced to the rss at age eight ',\n",
       " 'he has discussed having to work as a child in his father s tea stall in the vadnagar railway station  which has not been reliably corroborated ',\n",
       " 'at age     modi was married to jashodaben chimanlal modi  whom he abandoned soon after ',\n",
       " 'he first publicly acknowledged her as his wife more than four decades later when required to do so by indian law  but has made no contact with her since ',\n",
       " 'modi has asserted he had travelled in northern india for two years after leaving his parental home  visiting a number of religious centres  but few details of his travels have emerged ',\n",
       " 'upon his return to gujarat in       he became a full time worker for the rss ',\n",
       " 'after the state of emergency was declared by prime minister indira gandhi in       modi went into hiding ',\n",
       " 'the rss assigned him to the bjp in      and he held several positions within the party hierarchy until       rising to the rank of general secretary ',\n",
       " ' c ']"
      ]
     },
     "execution_count": 32,
     "metadata": {},
     "output_type": "execute_result"
    }
   ],
   "source": [
    "corpus"
   ]
  },
  {
   "cell_type": "code",
   "execution_count": 47,
   "id": "499c848a",
   "metadata": {},
   "outputs": [
    {
     "name": "stdout",
     "output_type": "stream",
     "text": [
      "narendra\n",
      "damodardas\n",
      "modi\n",
      "gujarati\n",
      "n\n",
      "end\n",
      "mod\n",
      "modi\n",
      "listen\n",
      "born\n",
      "september\n",
      "b\n",
      "indian\n",
      "politician\n",
      "serving\n",
      "th\n",
      "current\n",
      "prime\n",
      "minister\n",
      "india\n",
      "since\n",
      "modi\n",
      "chief\n",
      "minister\n",
      "gujarat\n",
      "member\n",
      "parliament\n",
      "varanasi\n",
      "member\n",
      "bharatiya\n",
      "janata\n",
      "party\n",
      "bjp\n",
      "rashtriya\n",
      "swayamsevak\n",
      "sangh\n",
      "rss\n",
      "right\n",
      "wing\n",
      "hindu\n",
      "nationalist\n",
      "paramilitary\n",
      "volunteer\n",
      "organisation\n",
      "longest\n",
      "serving\n",
      "prime\n",
      "minister\n",
      "outside\n",
      "indian\n",
      "national\n",
      "congress\n",
      "modi\n",
      "born\n",
      "raised\n",
      "vadnagar\n",
      "northeastern\n",
      "gujarat\n",
      "completed\n",
      "secondary\n",
      "education\n",
      "introduced\n",
      "rss\n",
      "age\n",
      "eight\n",
      "discussed\n",
      "work\n",
      "child\n",
      "father\n",
      "tea\n",
      "stall\n",
      "vadnagar\n",
      "railway\n",
      "station\n",
      "reliably\n",
      "corroborated\n",
      "age\n",
      "modi\n",
      "married\n",
      "jashodaben\n",
      "chimanlal\n",
      "modi\n",
      "abandoned\n",
      "soon\n",
      "first\n",
      "publicly\n",
      "acknowledged\n",
      "wife\n",
      "four\n",
      "decades\n",
      "later\n",
      "required\n",
      "indian\n",
      "law\n",
      "made\n",
      "contact\n",
      "since\n",
      "modi\n",
      "asserted\n",
      "travelled\n",
      "northern\n",
      "india\n",
      "two\n",
      "years\n",
      "leaving\n",
      "parental\n",
      "home\n",
      "visiting\n",
      "number\n",
      "religious\n",
      "centres\n",
      "details\n",
      "travels\n",
      "emerged\n",
      "upon\n",
      "return\n",
      "gujarat\n",
      "became\n",
      "full\n",
      "time\n",
      "worker\n",
      "rss\n",
      "state\n",
      "emergency\n",
      "declared\n",
      "prime\n",
      "minister\n",
      "indira\n",
      "gandhi\n",
      "modi\n",
      "went\n",
      "hiding\n",
      "rss\n",
      "assigned\n",
      "bjp\n",
      "held\n",
      "several\n",
      "positions\n",
      "within\n",
      "party\n",
      "hierarchy\n",
      "rising\n",
      "rank\n",
      "general\n",
      "secretary\n",
      "c\n"
     ]
    }
   ],
   "source": [
    "for i in corpus:\n",
    "    words = word_tokenize(i)\n",
    "    for word in words:\n",
    "        if word not in set(stopwords.words('english')):\n",
    "            print(word)"
   ]
  },
  {
   "cell_type": "code",
   "execution_count": 48,
   "id": "b4f4f95b",
   "metadata": {},
   "outputs": [
    {
     "name": "stdout",
     "output_type": "stream",
     "text": [
      "narendra\n",
      "damodarda\n",
      "modi\n",
      "gujarati\n",
      "n\n",
      "end\n",
      "mod\n",
      "modi\n",
      "listen\n",
      "born\n",
      "septemb\n",
      "b\n",
      "indian\n",
      "politician\n",
      "serv\n",
      "th\n",
      "current\n",
      "prime\n",
      "minist\n",
      "india\n",
      "sinc\n",
      "modi\n",
      "chief\n",
      "minist\n",
      "gujarat\n",
      "member\n",
      "parliament\n",
      "varanasi\n",
      "member\n",
      "bharatiya\n",
      "janata\n",
      "parti\n",
      "bjp\n",
      "rashtriya\n",
      "swayamsevak\n",
      "sangh\n",
      "rss\n",
      "right\n",
      "wing\n",
      "hindu\n",
      "nationalist\n",
      "paramilitari\n",
      "volunt\n",
      "organis\n",
      "longest\n",
      "serv\n",
      "prime\n",
      "minist\n",
      "outsid\n",
      "indian\n",
      "nation\n",
      "congress\n",
      "modi\n",
      "born\n",
      "rais\n",
      "vadnagar\n",
      "northeastern\n",
      "gujarat\n",
      "complet\n",
      "secondari\n",
      "educ\n",
      "introduc\n",
      "rss\n",
      "age\n",
      "eight\n",
      "discuss\n",
      "work\n",
      "child\n",
      "father\n",
      "tea\n",
      "stall\n",
      "vadnagar\n",
      "railway\n",
      "station\n",
      "reliabl\n",
      "corrobor\n",
      "age\n",
      "modi\n",
      "marri\n",
      "jashodaben\n",
      "chimanl\n",
      "modi\n",
      "abandon\n",
      "soon\n",
      "first\n",
      "publicli\n",
      "acknowledg\n",
      "wife\n",
      "four\n",
      "decad\n",
      "later\n",
      "requir\n",
      "indian\n",
      "law\n",
      "made\n",
      "contact\n",
      "sinc\n",
      "modi\n",
      "assert\n",
      "travel\n",
      "northern\n",
      "india\n",
      "two\n",
      "year\n",
      "leav\n",
      "parent\n",
      "home\n",
      "visit\n",
      "number\n",
      "religi\n",
      "centr\n",
      "detail\n",
      "travel\n",
      "emerg\n",
      "upon\n",
      "return\n",
      "gujarat\n",
      "becam\n",
      "full\n",
      "time\n",
      "worker\n",
      "rss\n",
      "state\n",
      "emerg\n",
      "declar\n",
      "prime\n",
      "minist\n",
      "indira\n",
      "gandhi\n",
      "modi\n",
      "went\n",
      "hide\n",
      "rss\n",
      "assign\n",
      "bjp\n",
      "held\n",
      "sever\n",
      "posit\n",
      "within\n",
      "parti\n",
      "hierarchi\n",
      "rise\n",
      "rank\n",
      "gener\n",
      "secretari\n",
      "c\n"
     ]
    }
   ],
   "source": [
    "for i in corpus:\n",
    "    words = word_tokenize(i)\n",
    "    for word in words:\n",
    "        if word not in set(stopwords.words('english')):\n",
    "            print(steam.stem(word))                            "
   ]
  },
  {
   "cell_type": "code",
   "execution_count": 50,
   "id": "a369875b",
   "metadata": {},
   "outputs": [
    {
     "name": "stdout",
     "output_type": "stream",
     "text": [
      "narendra\n",
      "damodardas\n",
      "modi\n",
      "gujarati\n",
      "n\n",
      "end\n",
      "mod\n",
      "modi\n",
      "listen\n",
      "born\n",
      "september\n",
      "b\n",
      "indian\n",
      "politician\n",
      "serving\n",
      "th\n",
      "current\n",
      "prime\n",
      "minister\n",
      "india\n",
      "since\n",
      "modi\n",
      "chief\n",
      "minister\n",
      "gujarat\n",
      "member\n",
      "parliament\n",
      "varanasi\n",
      "member\n",
      "bharatiya\n",
      "janata\n",
      "party\n",
      "bjp\n",
      "rashtriya\n",
      "swayamsevak\n",
      "sangh\n",
      "r\n",
      "right\n",
      "wing\n",
      "hindu\n",
      "nationalist\n",
      "paramilitary\n",
      "volunteer\n",
      "organisation\n",
      "longest\n",
      "serving\n",
      "prime\n",
      "minister\n",
      "outside\n",
      "indian\n",
      "national\n",
      "congress\n",
      "modi\n",
      "born\n",
      "raised\n",
      "vadnagar\n",
      "northeastern\n",
      "gujarat\n",
      "completed\n",
      "secondary\n",
      "education\n",
      "introduced\n",
      "r\n",
      "age\n",
      "eight\n",
      "discussed\n",
      "work\n",
      "child\n",
      "father\n",
      "tea\n",
      "stall\n",
      "vadnagar\n",
      "railway\n",
      "station\n",
      "reliably\n",
      "corroborated\n",
      "age\n",
      "modi\n",
      "married\n",
      "jashodaben\n",
      "chimanlal\n",
      "modi\n",
      "abandoned\n",
      "soon\n",
      "first\n",
      "publicly\n",
      "acknowledged\n",
      "wife\n",
      "four\n",
      "decade\n",
      "later\n",
      "required\n",
      "indian\n",
      "law\n",
      "made\n",
      "contact\n",
      "since\n",
      "modi\n",
      "asserted\n",
      "travelled\n",
      "northern\n",
      "india\n",
      "two\n",
      "year\n",
      "leaving\n",
      "parental\n",
      "home\n",
      "visiting\n",
      "number\n",
      "religious\n",
      "centre\n",
      "detail\n",
      "travel\n",
      "emerged\n",
      "upon\n",
      "return\n",
      "gujarat\n",
      "became\n",
      "full\n",
      "time\n",
      "worker\n",
      "r\n",
      "state\n",
      "emergency\n",
      "declared\n",
      "prime\n",
      "minister\n",
      "indira\n",
      "gandhi\n",
      "modi\n",
      "went\n",
      "hiding\n",
      "r\n",
      "assigned\n",
      "bjp\n",
      "held\n",
      "several\n",
      "position\n",
      "within\n",
      "party\n",
      "hierarchy\n",
      "rising\n",
      "rank\n",
      "general\n",
      "secretary\n",
      "c\n"
     ]
    }
   ],
   "source": [
    "for i in corpus:\n",
    "    words = word_tokenize(i)\n",
    "    for word in words:\n",
    "        if word not in set(stopwords.words('english')):\n",
    "            print(lemmatizer.lemmatize(word))                "
   ]
  },
  {
   "cell_type": "markdown",
   "id": "43b30794",
   "metadata": {},
   "source": [
    "## Bag of words"
   ]
  },
  {
   "cell_type": "code",
   "execution_count": 52,
   "id": "f5611e32",
   "metadata": {},
   "outputs": [],
   "source": [
    "from sklearn.feature_extraction.text import CountVectorizer"
   ]
  },
  {
   "cell_type": "code",
   "execution_count": 53,
   "id": "b309ac9d",
   "metadata": {},
   "outputs": [],
   "source": [
    "cv = CountVectorizer()"
   ]
  },
  {
   "cell_type": "code",
   "execution_count": 56,
   "id": "d627c0a4",
   "metadata": {},
   "outputs": [],
   "source": [
    "x = cv.fit_transform(corpus)"
   ]
  },
  {
   "cell_type": "code",
   "execution_count": 57,
   "id": "5c263d74",
   "metadata": {},
   "outputs": [
    {
     "data": {
      "text/plain": [
       "{'narendra': 82,\n",
       " 'damodardas': 26,\n",
       " 'modi': 80,\n",
       " 'gujarati': 47,\n",
       " 'end': 36,\n",
       " 'mod': 79,\n",
       " 'listen': 73,\n",
       " 'born': 14,\n",
       " 'september': 115,\n",
       " 'is': 67,\n",
       " 'an': 4,\n",
       " 'indian': 63,\n",
       " 'politician': 97,\n",
       " 'serving': 116,\n",
       " 'as': 6,\n",
       " 'the': 128,\n",
       " 'th': 126,\n",
       " 'and': 5,\n",
       " 'current': 25,\n",
       " 'prime': 99,\n",
       " 'minister': 78,\n",
       " 'of': 90,\n",
       " 'india': 62,\n",
       " 'since': 118,\n",
       " 'was': 140,\n",
       " 'chief': 18,\n",
       " 'gujarat': 46,\n",
       " 'from': 42,\n",
       " 'to': 130,\n",
       " 'member': 77,\n",
       " 'parliament': 95,\n",
       " 'varanasi': 137,\n",
       " 'he': 52,\n",
       " 'bharatiya': 12,\n",
       " 'janata': 68,\n",
       " 'party': 96,\n",
       " 'bjp': 13,\n",
       " 'rashtriya': 104,\n",
       " 'swayamsevak': 124,\n",
       " 'sangh': 112,\n",
       " 'rss': 111,\n",
       " 'right': 109,\n",
       " 'wing': 147,\n",
       " 'hindu': 58,\n",
       " 'nationalist': 84,\n",
       " 'paramilitary': 93,\n",
       " 'volunteer': 139,\n",
       " 'organisation': 91,\n",
       " 'longest': 74,\n",
       " 'outside': 92,\n",
       " 'national': 83,\n",
       " 'congress': 22,\n",
       " 'raised': 102,\n",
       " 'in': 61,\n",
       " 'vadnagar': 136,\n",
       " 'northeastern': 86,\n",
       " 'where': 143,\n",
       " 'completed': 21,\n",
       " 'his': 59,\n",
       " 'secondary': 113,\n",
       " 'education': 32,\n",
       " 'introduced': 66,\n",
       " 'at': 9,\n",
       " 'age': 3,\n",
       " 'eight': 33,\n",
       " 'has': 49,\n",
       " 'discussed': 30,\n",
       " 'having': 51,\n",
       " 'work': 150,\n",
       " 'child': 19,\n",
       " 'father': 37,\n",
       " 'tea': 125,\n",
       " 'stall': 121,\n",
       " 'railway': 101,\n",
       " 'station': 123,\n",
       " 'which': 144,\n",
       " 'not': 88,\n",
       " 'been': 11,\n",
       " 'reliably': 105,\n",
       " 'corroborated': 24,\n",
       " 'married': 76,\n",
       " 'jashodaben': 69,\n",
       " 'chimanlal': 20,\n",
       " 'whom': 145,\n",
       " 'abandoned': 0,\n",
       " 'soon': 120,\n",
       " 'after': 2,\n",
       " 'first': 39,\n",
       " 'publicly': 100,\n",
       " 'acknowledged': 1,\n",
       " 'her': 54,\n",
       " 'wife': 146,\n",
       " 'more': 81,\n",
       " 'than': 127,\n",
       " 'four': 41,\n",
       " 'decades': 27,\n",
       " 'later': 70,\n",
       " 'when': 142,\n",
       " 'required': 107,\n",
       " 'do': 31,\n",
       " 'so': 119,\n",
       " 'by': 16,\n",
       " 'law': 71,\n",
       " 'but': 15,\n",
       " 'made': 75,\n",
       " 'no': 85,\n",
       " 'contact': 23,\n",
       " 'with': 148,\n",
       " 'asserted': 7,\n",
       " 'had': 48,\n",
       " 'travelled': 131,\n",
       " 'northern': 87,\n",
       " 'for': 40,\n",
       " 'two': 133,\n",
       " 'years': 152,\n",
       " 'leaving': 72,\n",
       " 'parental': 94,\n",
       " 'home': 60,\n",
       " 'visiting': 138,\n",
       " 'number': 89,\n",
       " 'religious': 106,\n",
       " 'centres': 17,\n",
       " 'few': 38,\n",
       " 'details': 29,\n",
       " 'travels': 132,\n",
       " 'have': 50,\n",
       " 'emerged': 34,\n",
       " 'upon': 135,\n",
       " 'return': 108,\n",
       " 'became': 10,\n",
       " 'full': 43,\n",
       " 'time': 129,\n",
       " 'worker': 151,\n",
       " 'state': 122,\n",
       " 'emergency': 35,\n",
       " 'declared': 28,\n",
       " 'indira': 64,\n",
       " 'gandhi': 44,\n",
       " 'went': 141,\n",
       " 'into': 65,\n",
       " 'hiding': 55,\n",
       " 'assigned': 8,\n",
       " 'him': 57,\n",
       " 'held': 53,\n",
       " 'several': 117,\n",
       " 'positions': 98,\n",
       " 'within': 149,\n",
       " 'hierarchy': 56,\n",
       " 'until': 134,\n",
       " 'rising': 110,\n",
       " 'rank': 103,\n",
       " 'general': 45,\n",
       " 'secretary': 114}"
      ]
     },
     "execution_count": 57,
     "metadata": {},
     "output_type": "execute_result"
    }
   ],
   "source": [
    "cv.vocabulary_"
   ]
  },
  {
   "cell_type": "code",
   "execution_count": 58,
   "id": "aec7c5f5",
   "metadata": {},
   "outputs": [
    {
     "data": {
      "text/plain": [
       "<14x153 sparse matrix of type '<class 'numpy.int64'>'\n",
       "\twith 238 stored elements in Compressed Sparse Row format>"
      ]
     },
     "execution_count": 58,
     "metadata": {},
     "output_type": "execute_result"
    }
   ],
   "source": [
    "x"
   ]
  },
  {
   "cell_type": "code",
   "execution_count": 60,
   "id": "d03f6c54",
   "metadata": {},
   "outputs": [
    {
     "data": {
      "text/plain": [
       "' narendra damodardas modi  gujarati    n  end   d mod   d s  modi    listen   born    september       b  is an indian politician serving as the   th and current prime minister of india since      '"
      ]
     },
     "execution_count": 60,
     "metadata": {},
     "output_type": "execute_result"
    }
   ],
   "source": [
    "corpus[0]"
   ]
  },
  {
   "cell_type": "code",
   "execution_count": 62,
   "id": "2b781479",
   "metadata": {},
   "outputs": [
    {
     "data": {
      "text/plain": [
       "array([[0, 0, 0, 0, 1, 1, 1, 0, 0, 0, 0, 0, 0, 0, 1, 0, 0, 0, 0, 0, 0, 0,\n",
       "        0, 0, 0, 1, 1, 0, 0, 0, 0, 0, 0, 0, 0, 0, 1, 0, 0, 0, 0, 0, 0, 0,\n",
       "        0, 0, 0, 1, 0, 0, 0, 0, 0, 0, 0, 0, 0, 0, 0, 0, 0, 0, 1, 1, 0, 0,\n",
       "        0, 1, 0, 0, 0, 0, 0, 1, 0, 0, 0, 0, 1, 1, 2, 0, 1, 0, 0, 0, 0, 0,\n",
       "        0, 0, 1, 0, 0, 0, 0, 0, 0, 1, 0, 1, 0, 0, 0, 0, 0, 0, 0, 0, 0, 0,\n",
       "        0, 0, 0, 0, 0, 1, 1, 0, 1, 0, 0, 0, 0, 0, 0, 0, 1, 0, 1, 0, 0, 0,\n",
       "        0, 0, 0, 0, 0, 0, 0, 0, 0, 0, 0, 0, 0, 0, 0, 0, 0, 0, 0, 0, 0]],\n",
       "      dtype=int64)"
      ]
     },
     "execution_count": 62,
     "metadata": {},
     "output_type": "execute_result"
    }
   ],
   "source": [
    "x[0].toarray()"
   ]
  },
  {
   "cell_type": "code",
   "execution_count": null,
   "id": "9c7ddef8",
   "metadata": {},
   "outputs": [],
   "source": []
  }
 ],
 "metadata": {
  "kernelspec": {
   "display_name": "Python 3 (ipykernel)",
   "language": "python",
   "name": "python3"
  },
  "language_info": {
   "codemirror_mode": {
    "name": "ipython",
    "version": 3
   },
   "file_extension": ".py",
   "mimetype": "text/x-python",
   "name": "python",
   "nbconvert_exporter": "python",
   "pygments_lexer": "ipython3",
   "version": "3.9.13"
  }
 },
 "nbformat": 4,
 "nbformat_minor": 5
}
