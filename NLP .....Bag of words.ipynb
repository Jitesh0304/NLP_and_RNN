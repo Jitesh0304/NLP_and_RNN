{
 "cells": [
  {
   "cell_type": "code",
   "execution_count": 1,
   "id": "609a448c",
   "metadata": {},
   "outputs": [],
   "source": [
    "import nltk"
   ]
  },
  {
   "cell_type": "code",
   "execution_count": 2,
   "id": "328bda52",
   "metadata": {},
   "outputs": [],
   "source": [
    "paragraph = \"\"\"In the year 1960, APJ Abdul Kalam’s graduation took place from Madras Institute of Technology. The association \n",
    "            of Kalam took place with the Defence Research & Development Service (DRDS). Furthermore, he joined as a scientist\n",
    "            at the Aeronautical Development Establishment of the Defence Research and Development Organisation. These were \n",
    "            the beginning achievements of his prestigious career as a scientist.Big achievement for Kalam came when he was \n",
    "            the project director at ISRO of India‘s first-ever Satellite Launch Vehicle (SLV- III). This satellite was \n",
    "            responsible for the deployment of the Rohini satellite in 1980. Moreover, Kalam was highly influential in the \n",
    "            development of Polar Satellite Launch Vehicle (PSLV) and SLV projects.Both projects were successful. Bringing\n",
    "            enhancement in the reputation of Kalam. Furthermore, the development of ballistic missiles was possible because\n",
    "            of the efforts of this man. Most noteworthy, Kalam earned the esteemed title of “The missile Man of India”.\n",
    "            The Government of India became aware of the brilliance of this man and made him the Chief Executive of the \n",
    "            Integrated Guided Missiles Development Program (IGMDP). Furthermore, this program was responsible for the \n",
    "            research and development of Missiles. The achievements of this distinguished man didn’t stop there.More success\n",
    "            was to come in the form of Agni and Prithvi missiles. Once again, Kalam was influential in the developments\n",
    "            of these missiles. It was during his tenure in IGMDP that Kalam played an instrumental role in the developments\n",
    "            of missiles like Agni and Prithvi. Moreover, Kamal was a key figure in the Pokhran II nuclear test.\"\"\""
   ]
  },
  {
   "cell_type": "code",
   "execution_count": 3,
   "id": "62f0e0d6",
   "metadata": {},
   "outputs": [],
   "source": [
    "import re                                   ## regular expression\n",
    "from nltk.stem import PorterStemmer\n",
    "from nltk.corpus import stopwords\n",
    "from nltk.stem import WordNetLemmatizer"
   ]
  },
  {
   "cell_type": "code",
   "execution_count": 4,
   "id": "d62987ef",
   "metadata": {},
   "outputs": [],
   "source": [
    "stemmer = PorterStemmer()\n",
    "lemma = WordNetLemmatizer()"
   ]
  },
  {
   "cell_type": "code",
   "execution_count": 5,
   "id": "54356d92",
   "metadata": {},
   "outputs": [
    {
     "data": {
      "text/plain": [
       "['In the year 1960, APJ Abdul Kalam’s graduation took place from Madras Institute of Technology.',\n",
       " 'The association \\n            of Kalam took place with the Defence Research & Development Service (DRDS).',\n",
       " 'Furthermore, he joined as a scientist\\n            at the Aeronautical Development Establishment of the Defence Research and Development Organisation.',\n",
       " 'These were \\n            the beginning achievements of his prestigious career as a scientist.Big achievement for Kalam came when he was \\n            the project director at ISRO of India‘s first-ever Satellite Launch Vehicle (SLV- III).',\n",
       " 'This satellite was \\n            responsible for the deployment of the Rohini satellite in 1980.',\n",
       " 'Moreover, Kalam was highly influential in the \\n            development of Polar Satellite Launch Vehicle (PSLV) and SLV projects.Both projects were successful.',\n",
       " 'Bringing\\n            enhancement in the reputation of Kalam.',\n",
       " 'Furthermore, the development of ballistic missiles was possible because\\n            of the efforts of this man.',\n",
       " 'Most noteworthy, Kalam earned the esteemed title of “The missile Man of India”.',\n",
       " 'The Government of India became aware of the brilliance of this man and made him the Chief Executive of the \\n            Integrated Guided Missiles Development Program (IGMDP).',\n",
       " 'Furthermore, this program was responsible for the \\n            research and development of Missiles.',\n",
       " 'The achievements of this distinguished man didn’t stop there.More success\\n            was to come in the form of Agni and Prithvi missiles.',\n",
       " 'Once again, Kalam was influential in the developments\\n            of these missiles.',\n",
       " 'It was during his tenure in IGMDP that Kalam played an instrumental role in the developments\\n            of missiles like Agni and Prithvi.',\n",
       " 'Moreover, Kamal was a key figure in the Pokhran II nuclear test.']"
      ]
     },
     "execution_count": 5,
     "metadata": {},
     "output_type": "execute_result"
    }
   ],
   "source": [
    "sentence = nltk.sent_tokenize(paragraph)\n",
    "\n",
    "sentence"
   ]
  },
  {
   "cell_type": "code",
   "execution_count": 6,
   "id": "fa510568",
   "metadata": {},
   "outputs": [],
   "source": [
    "corpus =[]\n",
    "for i in range(len(sentence)):\n",
    "    \n",
    "                      ## here we are actually taking only(a-z  & A-Z) latters.... and replacing other symbols into space(' ')\n",
    "    review = re.sub('[^a-zA-Z]',' ',sentence[i])\n",
    "    \n",
    "             ## we are convrting all the text latters into lower_case \n",
    "    review = review.lower()\n",
    "             ## here we are spliting the words ..... or we can do the word_tokenize operation also\n",
    "    review = review.split()\n",
    "    \n",
    "    review = [stemmer.stem(word) for word in review if word not in set(stopwords.words('english'))]\n",
    "    \n",
    "    review = ' '.join(review)\n",
    "    \n",
    "    corpus.append(review)"
   ]
  },
  {
   "cell_type": "code",
   "execution_count": 7,
   "id": "895f7d4d",
   "metadata": {},
   "outputs": [
    {
     "data": {
      "text/plain": [
       "['year apj abdul kalam graduat took place madra institut technolog',\n",
       " 'associ kalam took place defenc research develop servic drd',\n",
       " 'furthermor join scientist aeronaut develop establish defenc research develop organis',\n",
       " 'begin achiev prestigi career scientist big achiev kalam came project director isro india first ever satellit launch vehicl slv iii',\n",
       " 'satellit respons deploy rohini satellit',\n",
       " 'moreov kalam highli influenti develop polar satellit launch vehicl pslv slv project project success',\n",
       " 'bring enhanc reput kalam',\n",
       " 'furthermor develop ballist missil possibl effort man',\n",
       " 'noteworthi kalam earn esteem titl missil man india',\n",
       " 'govern india becam awar brillianc man made chief execut integr guid missil develop program igmdp',\n",
       " 'furthermor program respons research develop missil',\n",
       " 'achiev distinguish man stop success come form agni prithvi missil',\n",
       " 'kalam influenti develop missil',\n",
       " 'tenur igmdp kalam play instrument role develop missil like agni prithvi',\n",
       " 'moreov kamal key figur pokhran ii nuclear test']"
      ]
     },
     "execution_count": 7,
     "metadata": {},
     "output_type": "execute_result"
    }
   ],
   "source": [
    "corpus"
   ]
  },
  {
   "cell_type": "code",
   "execution_count": 8,
   "id": "43cb4c57",
   "metadata": {},
   "outputs": [],
   "source": [
    "corpus2 =[]\n",
    "for i in range(len(sentence)):\n",
    "    \n",
    "    review = re.sub('[^a-zA-Z]',' ',sentence[i])\n",
    "    \n",
    "    review = review.lower()\n",
    "    \n",
    "    review = review.split()\n",
    "    \n",
    "    review = [lemma.lemmatize(word) for word in review if word not in set(stopwords.words('english'))]\n",
    "    \n",
    "    review = ' '.join(review)\n",
    "    \n",
    "    corpus2.append(review)"
   ]
  },
  {
   "cell_type": "code",
   "execution_count": 9,
   "id": "0b465caf",
   "metadata": {},
   "outputs": [
    {
     "data": {
      "text/plain": [
       "['year apj abdul kalam graduation took place madras institute technology',\n",
       " 'association kalam took place defence research development service drds',\n",
       " 'furthermore joined scientist aeronautical development establishment defence research development organisation',\n",
       " 'beginning achievement prestigious career scientist big achievement kalam came project director isro india first ever satellite launch vehicle slv iii',\n",
       " 'satellite responsible deployment rohini satellite',\n",
       " 'moreover kalam highly influential development polar satellite launch vehicle pslv slv project project successful',\n",
       " 'bringing enhancement reputation kalam',\n",
       " 'furthermore development ballistic missile possible effort man',\n",
       " 'noteworthy kalam earned esteemed title missile man india',\n",
       " 'government india became aware brilliance man made chief executive integrated guided missile development program igmdp',\n",
       " 'furthermore program responsible research development missile',\n",
       " 'achievement distinguished man stop success come form agni prithvi missile',\n",
       " 'kalam influential development missile',\n",
       " 'tenure igmdp kalam played instrumental role development missile like agni prithvi',\n",
       " 'moreover kamal key figure pokhran ii nuclear test']"
      ]
     },
     "execution_count": 9,
     "metadata": {},
     "output_type": "execute_result"
    }
   ],
   "source": [
    "corpus2"
   ]
  },
  {
   "cell_type": "markdown",
   "id": "79ebf8e6",
   "metadata": {},
   "source": [
    "# Bag of Words"
   ]
  },
  {
   "cell_type": "markdown",
   "id": "b91e3eac",
   "metadata": {},
   "source": [
    "# 1"
   ]
  },
  {
   "cell_type": "code",
   "execution_count": 10,
   "id": "81d9a25e",
   "metadata": {},
   "outputs": [],
   "source": [
    "## Converting the text into vectors (Bag_of_words)\n",
    "\n",
    "from sklearn.feature_extraction.text import CountVectorizer"
   ]
  },
  {
   "cell_type": "code",
   "execution_count": 11,
   "id": "a86dd5e3",
   "metadata": {},
   "outputs": [],
   "source": [
    "cv = CountVectorizer()"
   ]
  },
  {
   "cell_type": "code",
   "execution_count": 12,
   "id": "4b9cd38b",
   "metadata": {},
   "outputs": [],
   "source": [
    "x = cv.fit_transform(corpus).toarray()"
   ]
  },
  {
   "cell_type": "code",
   "execution_count": 14,
   "id": "0a50066d",
   "metadata": {},
   "outputs": [
    {
     "name": "stdout",
     "output_type": "stream",
     "text": [
      "[[1 0 0 ... 1 0 1]\n",
      " [0 0 0 ... 1 0 0]\n",
      " [0 0 1 ... 0 0 0]\n",
      " ...\n",
      " [0 0 0 ... 0 0 0]\n",
      " [0 0 0 ... 0 0 0]\n",
      " [0 0 0 ... 0 0 0]]\n"
     ]
    }
   ],
   "source": [
    "print(x)"
   ]
  },
  {
   "cell_type": "markdown",
   "id": "f968a9c2",
   "metadata": {},
   "source": [
    "# 2"
   ]
  },
  {
   "cell_type": "code",
   "execution_count": 15,
   "id": "5ecd263d",
   "metadata": {},
   "outputs": [
    {
     "name": "stdout",
     "output_type": "stream",
     "text": [
      "[[1 0 0 ... 1 0 1]\n",
      " [0 0 0 ... 1 0 0]\n",
      " [0 0 1 ... 0 0 0]\n",
      " ...\n",
      " [0 0 0 ... 0 0 0]\n",
      " [0 0 0 ... 0 0 0]\n",
      " [0 0 0 ... 0 0 0]]\n"
     ]
    }
   ],
   "source": [
    "y = cv.fit_transform(corpus2).toarray()\n",
    "print(y)"
   ]
  },
  {
   "cell_type": "markdown",
   "id": "d6ccca6b",
   "metadata": {},
   "source": [
    "# 3"
   ]
  },
  {
   "cell_type": "code",
   "execution_count": 16,
   "id": "dcfd984a",
   "metadata": {},
   "outputs": [
    {
     "name": "stdout",
     "output_type": "stream",
     "text": [
      "[[1 0 0 ... 1 0 1]\n",
      " [0 0 0 ... 1 0 0]\n",
      " [0 0 1 ... 0 0 0]\n",
      " ...\n",
      " [0 0 0 ... 0 0 0]\n",
      " [0 0 0 ... 0 0 0]\n",
      " [0 0 0 ... 0 0 0]]\n"
     ]
    }
   ],
   "source": [
    "cv2 = CountVectorizer(max_features= 1010)\n",
    "z = cv2.fit_transform(corpus).toarray()\n",
    "print(z)"
   ]
  },
  {
   "cell_type": "code",
   "execution_count": null,
   "id": "384a346e",
   "metadata": {},
   "outputs": [],
   "source": []
  }
 ],
 "metadata": {
  "kernelspec": {
   "display_name": "Python 3 (ipykernel)",
   "language": "python",
   "name": "python3"
  },
  "language_info": {
   "codemirror_mode": {
    "name": "ipython",
    "version": 3
   },
   "file_extension": ".py",
   "mimetype": "text/x-python",
   "name": "python",
   "nbconvert_exporter": "python",
   "pygments_lexer": "ipython3",
   "version": "3.9.12"
  }
 },
 "nbformat": 4,
 "nbformat_minor": 5
}
