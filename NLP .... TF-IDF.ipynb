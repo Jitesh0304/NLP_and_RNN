{
 "cells": [
  {
   "cell_type": "code",
   "execution_count": 1,
   "id": "050efeb9",
   "metadata": {},
   "outputs": [],
   "source": [
    "import nltk"
   ]
  },
  {
   "cell_type": "code",
   "execution_count": 2,
   "id": "79399c16",
   "metadata": {},
   "outputs": [],
   "source": [
    "paragraph = \"\"\"The President of Guyana Dr. Mohamed Irfaan Ali ji, the President of Suriname Shri Chandrikapersad Santokhi ji,\n",
    "            the Governor of Madhya Pradesh Shri  Mangubhai Patel, Chief Minister Shivraj Singh Chouhan, Foreign Minister S. \n",
    "            Jaishankar ji, other cabinet colleagues, and my dear brothers and sisters from all over the world gathered at \n",
    "            the Pravasi Bharatiya Divas convention! Best wishes for 2023 to all of you. The Pravasi Bharatiya Divas convention \n",
    "            is being held once again in its original form and with all its grandeur after almost four years. Face-to-face\n",
    "            meeting with loved ones has its own unique joy as well as its importance. I greet and welcome all of you on behalf\n",
    "            of 130 crore Indians.Brothers and sisters, Every NRI present here with extraordinary achievements in their\n",
    "            respective fields has come to pay homage to the soil of their country. And this Pravasi Bharatiya Divas convention\n",
    "            is being held on the land of Madhya Pradesh, which is called the heart of the country. There are so many things \n",
    "            in MP like the waters of Mother Narmada, the forests, the tribal tradition, the spirituality that will make your\n",
    "            visit unforgettable. More recently, a grand and divine expansion of Lord Mahakal's Mahalok has also taken place \n",
    "            in nearby Ujjain. I hope all of you will go there and take the blessings of Lord Mahakal and be a part of that \n",
    "            wonderful experience.Friends,By the way, the city in which we all are now is also wonderful in itself. People say\n",
    "            that Indore is a city, but I say that Indore is a period. This is the period, which moves ahead of time and yet\n",
    "            keeps the legacy intact. Indore has established a distinct identity in the country in the field of cleanliness.\n",
    "            'Apan ka Indore' is wonderful for food culture not only in the country, but in the whole world. The taste of \n",
    "            Indori Namkeen, the passion of the people here for poha, sago khichdi, kachori-samosas-shikanji, is mouth watering.\n",
    "            And those who tasted these things did not look for anything else! Similarly, ‘Chhappan Bhog’ shop and Sarafa Bazar\n",
    "            are also very famous. This is the reason why some people call Indore the capital of cleanliness as well as taste. \n",
    "            I am sure you will not forget your experience here and will not forget to go back and tell others about it.\"\"\""
   ]
  },
  {
   "cell_type": "code",
   "execution_count": 3,
   "id": "d54a1e60",
   "metadata": {},
   "outputs": [],
   "source": [
    "sentence = nltk.sent_tokenize(paragraph)"
   ]
  },
  {
   "cell_type": "code",
   "execution_count": 4,
   "id": "e5473fa7",
   "metadata": {},
   "outputs": [],
   "source": [
    "import re\n",
    "from nltk.corpus import stopwords\n",
    "from nltk.stem.porter import PorterStemmer\n",
    "from nltk.stem import WordNetLemmatizer"
   ]
  },
  {
   "cell_type": "code",
   "execution_count": 5,
   "id": "b073d01f",
   "metadata": {},
   "outputs": [],
   "source": [
    "stemmer = PorterStemmer()"
   ]
  },
  {
   "cell_type": "code",
   "execution_count": 6,
   "id": "b52ed9f0",
   "metadata": {},
   "outputs": [],
   "source": [
    "lemme = WordNetLemmatizer()"
   ]
  },
  {
   "cell_type": "code",
   "execution_count": 7,
   "id": "28012646",
   "metadata": {},
   "outputs": [],
   "source": [
    "corpus = []\n",
    "\n",
    "for i in range(len(sentence)):\n",
    "    \n",
    "    review = re.sub('[^a-zA-Z]',' ',sentence[i])\n",
    "    \n",
    "    review = review.lower()\n",
    "    \n",
    "    review = review.split()\n",
    "    \n",
    "    review = [stemmer.stem(word) for word in review if word not in set(stopwords.words('english'))]\n",
    "    \n",
    "    review = ' '.join(review)\n",
    "    \n",
    "    corpus.append(review)"
   ]
  },
  {
   "cell_type": "code",
   "execution_count": 8,
   "id": "453d2de0",
   "metadata": {},
   "outputs": [
    {
     "data": {
      "text/plain": [
       "['presid guyana dr moham irfaan ali ji presid surinam shri chandrikapersad santokhi ji governor madhya pradesh shri mangubhai patel chief minist shivraj singh chouhan foreign minist jaishankar ji cabinet colleagu dear brother sister world gather pravasi bharatiya diva convent',\n",
       " 'best wish',\n",
       " 'pravasi bharatiya diva convent held origin form grandeur almost four year',\n",
       " 'face face meet love one uniqu joy well import',\n",
       " 'greet welcom behalf crore indian brother sister everi nri present extraordinari achiev respect field come pay homag soil countri',\n",
       " 'pravasi bharatiya diva convent held land madhya pradesh call heart countri',\n",
       " 'mani thing mp like water mother narmada forest tribal tradit spiritu make visit unforgett',\n",
       " 'recent grand divin expans lord mahak mahalok also taken place nearbi ujjain',\n",
       " 'hope go take bless lord mahak part wonder experi friend way citi also wonder',\n",
       " 'peopl say indor citi say indor period',\n",
       " 'period move ahead time yet keep legaci intact',\n",
       " 'indor establish distinct ident countri field cleanli',\n",
       " 'apan ka indor wonder food cultur countri whole world',\n",
       " 'tast indori namkeen passion peopl poha sago khichdi kachori samosa shikanji mouth water',\n",
       " 'tast thing look anyth els',\n",
       " 'similarli chhappan bhog shop sarafa bazar also famou',\n",
       " 'reason peopl call indor capit cleanli well tast',\n",
       " 'sure forget experi forget go back tell other']"
      ]
     },
     "execution_count": 8,
     "metadata": {},
     "output_type": "execute_result"
    }
   ],
   "source": [
    "corpus"
   ]
  },
  {
   "cell_type": "code",
   "execution_count": 9,
   "id": "7d86a33d",
   "metadata": {},
   "outputs": [],
   "source": [
    "corpus2 = []\n",
    "\n",
    "for i in range(len(sentence)):\n",
    "\n",
    "    review2 = re.sub('[^a-zA-Z]',' ',sentence[i])                \n",
    "    \n",
    "    review2 = review2.lower()\n",
    "    \n",
    "    review2 = review2.split()\n",
    "    \n",
    "    review2 = [lemme.lemmatize(word) for word in review2 if word not in set(stopwords.words('english'))]\n",
    "    \n",
    "    review2 = ' '.join(review2)\n",
    "    \n",
    "    corpus2.append(review2)"
   ]
  },
  {
   "cell_type": "code",
   "execution_count": 10,
   "id": "8c6e2ecb",
   "metadata": {},
   "outputs": [
    {
     "data": {
      "text/plain": [
       "['president guyana dr mohamed irfaan ali ji president suriname shri chandrikapersad santokhi ji governor madhya pradesh shri mangubhai patel chief minister shivraj singh chouhan foreign minister jaishankar ji cabinet colleague dear brother sister world gathered pravasi bharatiya diva convention',\n",
       " 'best wish',\n",
       " 'pravasi bharatiya diva convention held original form grandeur almost four year',\n",
       " 'face face meeting loved one unique joy well importance',\n",
       " 'greet welcome behalf crore indian brother sister every nri present extraordinary achievement respective field come pay homage soil country',\n",
       " 'pravasi bharatiya diva convention held land madhya pradesh called heart country',\n",
       " 'many thing mp like water mother narmada forest tribal tradition spirituality make visit unforgettable',\n",
       " 'recently grand divine expansion lord mahakal mahalok also taken place nearby ujjain',\n",
       " 'hope go take blessing lord mahakal part wonderful experience friend way city also wonderful',\n",
       " 'people say indore city say indore period',\n",
       " 'period move ahead time yet keep legacy intact',\n",
       " 'indore established distinct identity country field cleanliness',\n",
       " 'apan ka indore wonderful food culture country whole world',\n",
       " 'taste indori namkeen passion people poha sago khichdi kachori samosa shikanji mouth watering',\n",
       " 'tasted thing look anything else',\n",
       " 'similarly chhappan bhog shop sarafa bazar also famous',\n",
       " 'reason people call indore capital cleanliness well taste',\n",
       " 'sure forget experience forget go back tell others']"
      ]
     },
     "execution_count": 10,
     "metadata": {},
     "output_type": "execute_result"
    }
   ],
   "source": [
    "corpus2"
   ]
  },
  {
   "cell_type": "markdown",
   "id": "e748da06",
   "metadata": {},
   "source": [
    "# TF-IDF"
   ]
  },
  {
   "cell_type": "code",
   "execution_count": 11,
   "id": "222d99e5",
   "metadata": {},
   "outputs": [],
   "source": [
    "## TF-IDF library\n",
    "from sklearn.feature_extraction.text import TfidfVectorizer"
   ]
  },
  {
   "cell_type": "code",
   "execution_count": 12,
   "id": "4b1bf307",
   "metadata": {},
   "outputs": [],
   "source": [
    "tfidf = TfidfVectorizer()"
   ]
  },
  {
   "cell_type": "code",
   "execution_count": 13,
   "id": "f32ca8a4",
   "metadata": {},
   "outputs": [],
   "source": [
    "x = tfidf.fit_transform(corpus).toarray()"
   ]
  },
  {
   "cell_type": "code",
   "execution_count": 14,
   "id": "b43441f1",
   "metadata": {},
   "outputs": [
    {
     "data": {
      "text/plain": [
       "array([[0.        , 0.        , 0.14387827, ..., 0.12593537, 0.        ,\n",
       "        0.        ],\n",
       "       [0.        , 0.        , 0.        , ..., 0.        , 0.        ,\n",
       "        0.        ],\n",
       "       [0.        , 0.        , 0.        , ..., 0.        , 0.32893302,\n",
       "        0.        ],\n",
       "       ...,\n",
       "       [0.        , 0.        , 0.        , ..., 0.        , 0.        ,\n",
       "        0.        ],\n",
       "       [0.        , 0.        , 0.        , ..., 0.        , 0.        ,\n",
       "        0.        ],\n",
       "       [0.        , 0.        , 0.        , ..., 0.        , 0.        ,\n",
       "        0.        ]])"
      ]
     },
     "execution_count": 14,
     "metadata": {},
     "output_type": "execute_result"
    }
   ],
   "source": [
    "x"
   ]
  },
  {
   "cell_type": "code",
   "execution_count": 15,
   "id": "b45014f7",
   "metadata": {},
   "outputs": [
    {
     "data": {
      "text/plain": [
       "array([[0.        , 0.        , 0.14387827, ..., 0.12593537, 0.        ,\n",
       "        0.        ],\n",
       "       [0.        , 0.        , 0.        , ..., 0.        , 0.        ,\n",
       "        0.        ],\n",
       "       [0.        , 0.        , 0.        , ..., 0.        , 0.32893302,\n",
       "        0.        ],\n",
       "       ...,\n",
       "       [0.        , 0.        , 0.        , ..., 0.        , 0.        ,\n",
       "        0.        ],\n",
       "       [0.        , 0.        , 0.        , ..., 0.        , 0.        ,\n",
       "        0.        ],\n",
       "       [0.        , 0.        , 0.        , ..., 0.        , 0.        ,\n",
       "        0.        ]])"
      ]
     },
     "execution_count": 15,
     "metadata": {},
     "output_type": "execute_result"
    }
   ],
   "source": [
    "y = tfidf.fit_transform(corpus2).toarray()\n",
    "\n",
    "y"
   ]
  },
  {
   "cell_type": "code",
   "execution_count": null,
   "id": "6861814a",
   "metadata": {},
   "outputs": [],
   "source": []
  }
 ],
 "metadata": {
  "kernelspec": {
   "display_name": "Python 3 (ipykernel)",
   "language": "python",
   "name": "python3"
  },
  "language_info": {
   "codemirror_mode": {
    "name": "ipython",
    "version": 3
   },
   "file_extension": ".py",
   "mimetype": "text/x-python",
   "name": "python",
   "nbconvert_exporter": "python",
   "pygments_lexer": "ipython3",
   "version": "3.9.13"
  }
 },
 "nbformat": 4,
 "nbformat_minor": 5
}
